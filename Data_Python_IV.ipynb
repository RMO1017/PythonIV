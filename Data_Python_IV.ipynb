{
  "cells": [
    {
      "cell_type": "markdown",
      "metadata": {
        "id": "wSsa86w7OPT3"
      },
      "source": [
        "# Object-Oriented-Programming (OOP)"
      ]
    },
    {
      "cell_type": "markdown",
      "metadata": {
        "id": "pOSrtdQ_OPT4"
      },
      "source": [
        "## Tasks Today:\n",
        "\n",
        "   \n",
        "\n",
        "1) <b>Creating a Class (Initializing/Declaring)</b> <br>\n",
        "2) <b>Using a Class (Instantiating)</b> <br>\n",
        " &nbsp;&nbsp;&nbsp;&nbsp; a) Creating One Instance <br>\n",
        " &nbsp;&nbsp;&nbsp;&nbsp; b) Creating Multiple Instances <br>\n",
        " &nbsp;&nbsp;&nbsp;&nbsp; c) In-Class Exercise #1 - Create a Class 'Car' and instantiate three different makes of cars <br>\n",
        "3) <b>The \\__init\\__() Method</b> <br>\n",
        " &nbsp;&nbsp;&nbsp;&nbsp; a) The 'self' Attribute <br>\n",
        "4) <b>Class Attributes</b> <br>\n",
        " &nbsp;&nbsp;&nbsp;&nbsp; a) Initializing Attributes <br>\n",
        " &nbsp;&nbsp;&nbsp;&nbsp; b) Setting an Attribute Outside of the \\__init\\__() Method <br>\n",
        " &nbsp;&nbsp;&nbsp;&nbsp; c) Setting Defaults for Attributes <br>\n",
        " &nbsp;&nbsp;&nbsp;&nbsp; d) Accessing Class Attributes <br>\n",
        " &nbsp;&nbsp;&nbsp;&nbsp; e) Changing Class Attributes <br>\n",
        " &nbsp;&nbsp;&nbsp;&nbsp; f) In-Class Exercise #2 - Add a color and wheels attribute to your 'Car' class <br>\n",
        "5) <b>Class Methods</b> <br>\n",
        " &nbsp;&nbsp;&nbsp;&nbsp; a) Creating <br>\n",
        " &nbsp;&nbsp;&nbsp;&nbsp; b) Calling <br>\n",
        " &nbsp;&nbsp;&nbsp;&nbsp; c) Modifying an Attribute's Value Through a Method <br>\n",
        " &nbsp;&nbsp;&nbsp;&nbsp; d) Incrementing an Attribute's Value Through a Method <br>\n",
        " &nbsp;&nbsp;&nbsp;&nbsp; e) In-Class Exercise #3 - Add a method that prints the cars color and wheel number, then call them <br>\n",
        "6) <b>Inheritance</b> <br>\n",
        " &nbsp;&nbsp;&nbsp;&nbsp; a) Syntax for Inheriting from a Parent Class <br>\n",
        " &nbsp;&nbsp;&nbsp;&nbsp; b) The \\__init\\__() Method for a Child Class (super()) <br>\n",
        " &nbsp;&nbsp;&nbsp;&nbsp; c) Defining Attributes and Methods for the Child Class <br>\n",
        " &nbsp;&nbsp;&nbsp;&nbsp; d) Method Overriding <br>\n",
        " &nbsp;&nbsp;&nbsp;&nbsp; e) In-Class Exercise #4 - Create a class 'Ford' that inherits from 'Car' class and initialize it as a Blue Ford Explorer with 4 wheels using the super() method <br>\n",
        "7) <b>Classes as Attributes</b> <br>\n",
        "8) <b>Exercises</b> <br>\n",
        " &nbsp;&nbsp;&nbsp;&nbsp; a) Exercise #1 - Turn the shopping cart program from yesterday into an object-oriented program <br>"
      ]
    },
    {
      "cell_type": "markdown",
      "metadata": {
        "id": "dtkxHlsbOPT5"
      },
      "source": [
        "## Creating a Class (Initializing/Declaring)\n",
        "<p>When creating a class, function, or even a variable you are initializing that object. Initializing and Declaring occur at the same time in Python, whereas in lower level languages you have to declare an object before initializing it. This is the first step in the process of using a class.</p>"
      ]
    },
    {
      "cell_type": "code",
      "execution_count": 2,
      "metadata": {
        "id": "IzV7_U4iOPT6"
      },
      "outputs": [],
      "source": [
        "class Car():\n",
        "    wheels = 4\n",
        "    color = 'blue'"
      ]
    },
    {
      "cell_type": "markdown",
      "metadata": {
        "id": "DbI0Tn9LOPT6"
      },
      "source": [
        "## Using a Class (Instantiating)\n",
        "<p>The process of creating a class is called <i>Instantiating</i>. Each time you create a variable of that type of class, it is referred to as an <i>Instance</i> of that class. This is the second step in the process of using a class.</p>"
      ]
    },
    {
      "cell_type": "markdown",
      "metadata": {
        "id": "r0lRHOB5OPT7"
      },
      "source": [
        "##### Creating One Instance"
      ]
    },
    {
      "cell_type": "code",
      "execution_count": 3,
      "metadata": {
        "id": "N7H7fX-KOPT7"
      },
      "outputs": [],
      "source": [
        "ford = Car()"
      ]
    },
    {
      "cell_type": "markdown",
      "metadata": {
        "id": "Pk_dcRrYOPT8"
      },
      "source": [
        "##### Creating Multiple Instances"
      ]
    },
    {
      "cell_type": "code",
      "execution_count": null,
      "metadata": {
        "id": "KdJdyel0OPT8"
      },
      "outputs": [],
      "source": [
        "chevy = Car()\n",
        "honda = Car()\n",
        "porsche = Car()\n",
        "\n",
        "print(type(porsche.color))\n",
        "print"
      ]
    },
    {
      "cell_type": "markdown",
      "metadata": {
        "id": "iILbFpmYOPT8"
      },
      "source": [
        "##### In-Class Exercise #1 - Create a Class 'Car' and Instantiate three different makes of cars"
      ]
    },
    {
      "cell_type": "code",
      "execution_count": 6,
      "metadata": {
        "id": "WoFLhV8wOPT9",
        "outputId": "58fd4b66-ce93-4b5c-b9c0-e60d07fb2a21",
        "colab": {
          "base_uri": "https://localhost:8080/"
        }
      },
      "outputs": [
        {
          "output_type": "stream",
          "name": "stdout",
          "text": [
            "British Racing Green\n"
          ]
        }
      ],
      "source": [
        "class Car():\n",
        "    wheel = 4\n",
        "    engine = \"W12\"\n",
        "    color = \"British Racing Green\"\n",
        "\n",
        "\n",
        "aston_martin = Car()\n",
        "ferrari = Car()\n",
        "Lamborghini = Car()\n",
        "\n",
        "print(aston_martin.color)"
      ]
    },
    {
      "cell_type": "markdown",
      "metadata": {
        "id": "2iLzloJtOPT9"
      },
      "source": [
        "## The \\__init\\__() Method <br>\n",
        "<p>This method is used in almost every created class, and called only once upon the creation of the class instance. This method will initialize all variables needed for the object.</p>"
      ]
    },
    {
      "cell_type": "code",
      "execution_count": 7,
      "metadata": {
        "id": "Zw3bqsA6OPT9",
        "outputId": "e01e83ce-9d18-4fd3-a6ae-c8b03eb8aed6",
        "colab": {
          "base_uri": "https://localhost:8080/"
        }
      },
      "outputs": [
        {
          "output_type": "stream",
          "name": "stdout",
          "text": [
            "4\n",
            "6\n"
          ]
        }
      ],
      "source": [
        "class Car():\n",
        "  engine = \"4.7L\"\n",
        "\n",
        "  def __init__(self, wheels, color):\n",
        "    self.wheels = wheels\n",
        "    self.color = color\n",
        "\n",
        "ford = Car(4, 'red')\n",
        "chevy = Car(6, 'black')\n",
        "\n",
        "print(ford.wheels)\n",
        "print(chevy.wheels)"
      ]
    },
    {
      "cell_type": "markdown",
      "metadata": {
        "id": "yS9DNSWnOPT9"
      },
      "source": [
        "##### The 'self' Attribute <br>\n",
        "<p>This attribute is required to keep track of specific instance's attributes. Without the self attribute, the program would not know how to reference or keep track of an instance's attributes.</p>"
      ]
    },
    {
      "cell_type": "code",
      "execution_count": null,
      "metadata": {
        "id": "JqstRWpUOPT9"
      },
      "outputs": [],
      "source": [
        "# see above"
      ]
    },
    {
      "cell_type": "markdown",
      "metadata": {
        "id": "BwmhNDCHOPT9"
      },
      "source": [
        "## Class Attributes <br>\n",
        "<p>While variables are inside of a class, they are referred to as attributes and not variables. When someone says 'attribute' you know they're speaking about a class. Attributes can be initialized through the init method, or outside of it.</p>"
      ]
    },
    {
      "cell_type": "markdown",
      "metadata": {
        "id": "Y8vy6WGAOPT9"
      },
      "source": [
        "##### Initializing Attributes"
      ]
    },
    {
      "cell_type": "code",
      "execution_count": 14,
      "metadata": {
        "id": "RwtVGEpaOPT9"
      },
      "outputs": [],
      "source": [
        "# see above\n",
        "\n",
        "class Toy():\n",
        "  kind = 'car'\n",
        "\n",
        "  def __init__(self, rooftop, horn, wheels = 4):\n",
        "    self.rooftop = rooftop\n",
        "    self.horn = horn\n",
        "    self.wheels = wheels\n",
        "\n",
        "tonka_truck = Toy(1,1)\n",
        "hotwheels_car = Toy(2,3,8)\n"
      ]
    },
    {
      "cell_type": "markdown",
      "metadata": {
        "id": "4g9PBPDpOPT9"
      },
      "source": [
        "##### Accessing Class Attributes"
      ]
    },
    {
      "cell_type": "code",
      "execution_count": 15,
      "metadata": {
        "scrolled": true,
        "id": "4S5T1QTSOPT9",
        "outputId": "6e73b675-96fe-4f30-b459-300bea9a28b3",
        "colab": {
          "base_uri": "https://localhost:8080/"
        }
      },
      "outputs": [
        {
          "output_type": "stream",
          "name": "stdout",
          "text": [
            "8\n"
          ]
        }
      ],
      "source": [
        "# See Above\n",
        "print(hotwheels_car.wheels)"
      ]
    },
    {
      "cell_type": "markdown",
      "metadata": {
        "id": "CtIKNl2KOPT9"
      },
      "source": [
        "##### Setting Defaults for Attributes"
      ]
    },
    {
      "cell_type": "code",
      "execution_count": 17,
      "metadata": {
        "id": "27Zk78_0OPT9",
        "outputId": "e5dacea8-9870-4904-a118-411ce8ad25c1",
        "colab": {
          "base_uri": "https://localhost:8080/"
        }
      },
      "outputs": [
        {
          "output_type": "stream",
          "name": "stdout",
          "text": [
            "Blue\n",
            "4\n"
          ]
        }
      ],
      "source": [
        "class Car():\n",
        "  engine = '4.7L'\n",
        "\n",
        "  def __init__(self, wheels):\n",
        "    self.wheels = wheels\n",
        "    self.color = 'Blue'\n",
        "\n",
        "honda = Car(4)\n",
        "print(honda.color)\n",
        "print(honda.wheels)\n",
        "honda.engine = '5.4L'\n",
        "print(honda.engine)"
      ]
    },
    {
      "cell_type": "markdown",
      "metadata": {
        "id": "VUmW-BNNOPT-"
      },
      "source": [
        "##### Changing Class Attributes <br>\n",
        "<p>Keep in mind there are global class attributes and then there are attributes only available to each class instance which won't effect other classes.</p>"
      ]
    },
    {
      "cell_type": "code",
      "execution_count": null,
      "metadata": {
        "id": "SCASfAVbOPT-"
      },
      "outputs": [],
      "source": [
        "#see above"
      ]
    },
    {
      "cell_type": "code",
      "execution_count": null,
      "metadata": {
        "id": "Ai8B6O9-OPT-"
      },
      "outputs": [],
      "source": []
    },
    {
      "cell_type": "markdown",
      "metadata": {
        "id": "QlYwsh4ROPT-"
      },
      "source": [
        "##### In-Class Exercise #2 - Add a doors and seats attribute to your 'Car' class then print out two different instances with different doors and seats"
      ]
    },
    {
      "cell_type": "code",
      "execution_count": 29,
      "metadata": {
        "id": "6jxJZ5zpOPT-",
        "outputId": "9230edb9-3f45-4149-9f8b-ba922ea55972",
        "colab": {
          "base_uri": "https://localhost:8080/"
        }
      },
      "outputs": [
        {
          "output_type": "stream",
          "name": "stdout",
          "text": [
            "4\n",
            "Blue\n"
          ]
        }
      ],
      "source": [
        "class Car():\n",
        "  engine = '4.7L'\n",
        "\n",
        "  def __init__(self, seats):\n",
        "    self.wheels = 4\n",
        "    self.doors = 2\n",
        "    self.seats = 2\n",
        "    self.color = 'British Racing Green'\n",
        "\n",
        "  aston_martin = Car(4)\n",
        "  print(aston_martin.wheels)\n",
        "  print(aston_martin.color)"
      ]
    },
    {
      "cell_type": "markdown",
      "metadata": {
        "id": "flxFHw3vOPT-"
      },
      "source": [
        "## Class Methods <br>\n",
        "<p>While inside of a class, functions are referred to as 'methods'. If you hear someone mention methods, they're speaking about classes. Methods are essentially functions, but only callable on the instances of a class.</p>"
      ]
    },
    {
      "cell_type": "markdown",
      "metadata": {
        "id": "V9GQp_LAOPT-"
      },
      "source": [
        "##### Creating"
      ]
    },
    {
      "cell_type": "code",
      "execution_count": 39,
      "metadata": {
        "id": "kkZwNtCoOPT-"
      },
      "outputs": [],
      "source": [
        "class ShoppingBag():\n",
        "  '''\n",
        "  The ShoppingBag class will have handles, capacity,\n",
        "  and items to place inside.\n",
        "\n",
        "  Attributes for the class:\n",
        "  - handles: expected to be an integer\n",
        "  - capacity: expected to be an integer\n",
        "  - items: expected to be a list\n",
        "  '''\n",
        "\n",
        "  def __init__(self,handles,items = [], capacity = 10):\n",
        "    self.handles = handles\n",
        "    self.items = items\n",
        "    self.capacity = capacity\n",
        "\n",
        "  def showShoppingBag(self):\n",
        "    if len(self.items) == 0:\n",
        "      print('You have no items')\n",
        "    else:\n",
        "      print('You have items in your bag!!!')\n",
        "    for item in self.items:\n",
        "      print(item)\n",
        "\n",
        "  def showCapacity(self):\n",
        "    print(f'Your remaining capacity is: {self.capacity - len(self.items)}')\n",
        "\n",
        "  def addToShoppingBag(self):\n",
        "    if len(self.items) == self.capacity:\n",
        "      print('You have no remaining capacity')\n",
        "    else:\n",
        "      product = input('What would you like to add? ')\n",
        "      self.items.append(product)\n",
        "\n",
        "  def showHandles(self):\n",
        "    print(f'You have {self.handles} handles on your bag')\n",
        "\n",
        ""
      ]
    },
    {
      "cell_type": "code",
      "source": [],
      "metadata": {
        "id": "hZWQRDJ7RbxN"
      },
      "execution_count": null,
      "outputs": []
    },
    {
      "cell_type": "markdown",
      "metadata": {
        "id": "3v4qKxxbOPT-"
      },
      "source": [
        "##### Calling"
      ]
    },
    {
      "cell_type": "code",
      "execution_count": 40,
      "metadata": {
        "id": "Wgu3SzqQOPT-",
        "outputId": "dbc6120d-8e3b-458c-ec5f-35794282883a",
        "colab": {
          "base_uri": "https://localhost:8080/"
        }
      },
      "outputs": [
        {
          "output_type": "stream",
          "name": "stdout",
          "text": [
            "What would you like to do? \n",
            "You may:\n",
            "-Add\n",
            "-Show\n",
            "-Quit\n",
            "add\n",
            "What would you like to add? grapes\n",
            "What would you like to do? \n",
            "You may:\n",
            "-Add\n",
            "-Show\n",
            "-Quit\n",
            "add\n",
            "What would you like to add? cheese\n",
            "What would you like to do? \n",
            "You may:\n",
            "-Add\n",
            "-Show\n",
            "-Quit\n",
            "add\n",
            "What would you like to add? crackers\n",
            "What would you like to do? \n",
            "You may:\n",
            "-Add\n",
            "-Show\n",
            "-Quit\n",
            "show\n",
            "What would you like to see: \n",
            " -Capacity\n",
            "- Handles\n",
            " -Shopping Bagshopping bag\n",
            "You have items in your bag!!!\n",
            "grapes\n",
            "cheese\n",
            "crackers\n",
            "What would you like to do? \n",
            "You may:\n",
            "-Add\n",
            "-Show\n",
            "-Quit\n",
            "quit\n",
            "You have items in your bag!!!\n",
            "grapes\n",
            "cheese\n",
            "crackers\n",
            "Thanks for shopping!\n"
          ]
        }
      ],
      "source": [
        "# See Above\n",
        "\n",
        "wholeFoodsBag = ShoppingBag(2)\n",
        "\n",
        "def run():\n",
        "  while True:\n",
        "    response = input('What would you like to do? \\nYou may:\\n-Add\\n-Show\\n-Quit\\n')\n",
        "\n",
        "    if response.lower() == 'quit':\n",
        "      wholeFoodsBag.showShoppingBag()\n",
        "      print('Thanks for shopping!')\n",
        "      break\n",
        "    elif response.lower() == 'add':\n",
        "      wholeFoodsBag.addToShoppingBag()\n",
        "    elif response.lower() == 'show':\n",
        "      showChoice = input('What would you like to see: \\n -Capacity\\n- Handles\\n -Shopping Bag')\n",
        "      if showChoice.lower() == 'capacity':\n",
        "        wholeFoodsBag.showCapacity()\n",
        "      elif showChoice.lower() == 'handles':\n",
        "        wholeFoodsBag.showHandles()\n",
        "      else:\n",
        "        wholeFoodsBag.showShoppingBag()\n",
        "    else:\n",
        "      print('That is not a valid option. Please enter add, show, or quit.')\n",
        "\n",
        "\n",
        "run()\n"
      ]
    },
    {
      "cell_type": "markdown",
      "metadata": {
        "id": "rNBVgcSQOPT-"
      },
      "source": [
        "##### Modifying an Attribute's Value Through a Method"
      ]
    },
    {
      "cell_type": "code",
      "execution_count": null,
      "metadata": {
        "id": "TBcE8u_-OPT-"
      },
      "outputs": [],
      "source": [
        "#see above"
      ]
    },
    {
      "cell_type": "markdown",
      "metadata": {
        "id": "yvnLrYFkOPT-"
      },
      "source": [
        "##### Incrementing an Attribute's Value Through a Method"
      ]
    },
    {
      "cell_type": "code",
      "execution_count": null,
      "metadata": {
        "id": "JQl-qd5_OPT-"
      },
      "outputs": [],
      "source": []
    },
    {
      "cell_type": "markdown",
      "metadata": {
        "id": "uXAgaDeIOPT-"
      },
      "source": [
        "##### In-Class Exercise #3 - Add a method that takes in three parameters of year, doors and seats and prints out a formatted print statement with make, model, year, seats, and doors"
      ]
    },
    {
      "cell_type": "code",
      "execution_count": 48,
      "metadata": {
        "id": "kXP9GnjkOPT_"
      },
      "outputs": [],
      "source": [
        "# Create class with 2 paramters inside of the __init__ which are make and model\n",
        "class Car():\n",
        "\n",
        "  def __init__(self, make, model):\n",
        "    self.make = make\n",
        "    self.model = model\n",
        "# Inside of the Car class create a method that has 4 parameter in total (self,year,door,seats)\n",
        "  def carParts(self, year, door, seats):\n",
        "    self.year = year\n",
        "    self.door = door\n",
        "    self.seats = seats\n",
        "# Output: This car is from 2019 and is a Ford Expolorer and has 4 doors and 5 seats\n",
        "\n",
        "c = Car('Ford', 'Explorer')\n",
        "c.carParts(2019, 4, 5)\n",
        "\n",
        "\n"
      ]
    },
    {
      "cell_type": "markdown",
      "metadata": {
        "id": "IhDLbo7-OPT_"
      },
      "source": [
        "## Inheritance <br>\n",
        "<p>You can create a child-parent relationship between two classes by using inheritance. What this allows you to do is have overriding methods, but also inherit traits from the parent class. Think of it as an actual parent and child, the child will inherit the parent's genes, as will the classes in OOP</p>"
      ]
    },
    {
      "cell_type": "markdown",
      "metadata": {
        "id": "KemeTUSWOPUD"
      },
      "source": [
        "##### Syntax for Inheriting from a Parent Class"
      ]
    },
    {
      "cell_type": "code",
      "execution_count": null,
      "metadata": {
        "id": "y4UGLL9GOPUD"
      },
      "outputs": [],
      "source": []
    },
    {
      "cell_type": "markdown",
      "metadata": {
        "id": "qDjFSiViOPUD"
      },
      "source": [
        "##### The \\__init\\__() Method for a Child Class - super()"
      ]
    },
    {
      "cell_type": "code",
      "execution_count": null,
      "metadata": {
        "scrolled": true,
        "id": "q7Q2qfVLOPUD"
      },
      "outputs": [],
      "source": []
    },
    {
      "cell_type": "markdown",
      "metadata": {
        "id": "2rr12RGLOPUD"
      },
      "source": [
        "##### Defining Attributes and Methods for the Child Class"
      ]
    },
    {
      "cell_type": "code",
      "execution_count": null,
      "metadata": {
        "id": "8oVAw9ELOPUD"
      },
      "outputs": [],
      "source": [
        "# See Above"
      ]
    },
    {
      "cell_type": "markdown",
      "metadata": {
        "id": "FvGpkFksOPUD"
      },
      "source": [
        "##### Method Overriding"
      ]
    },
    {
      "cell_type": "code",
      "execution_count": null,
      "metadata": {
        "id": "AEvyRIEOOPUD"
      },
      "outputs": [],
      "source": [
        "# See Above"
      ]
    },
    {
      "cell_type": "markdown",
      "metadata": {
        "id": "tNfI9QUTOPUD"
      },
      "source": [
        "## Classes as Attributes <br>\n",
        "<p>Classes can also be used as attributes within another class. This is useful in situations where you need to keep variables locally stored, instead of globally stored.</p>"
      ]
    },
    {
      "cell_type": "code",
      "execution_count": null,
      "metadata": {
        "id": "RHmNdb9COPUD"
      },
      "outputs": [],
      "source": []
    },
    {
      "cell_type": "markdown",
      "metadata": {
        "id": "5QzvisU1OPUD"
      },
      "source": [
        "# Exercises"
      ]
    },
    {
      "cell_type": "markdown",
      "metadata": {
        "id": "yqTPhlsIOPUE"
      },
      "source": [
        "### Exercise 1 - Turn the shopping cart program from yesterday into an object-oriented program\n",
        "\n",
        "The comments in the cell below are there as a guide for thinking about the problem. However, if you feel a different way is best for you and your own thought process, please do what feels best for you by all means."
      ]
    },
    {
      "cell_type": "code",
      "execution_count": 49,
      "metadata": {
        "id": "RQCP06mLOPUE"
      },
      "outputs": [],
      "source": [
        "# Create a class called cart that retains items and has methods to add, remove, and show\n",
        "\n",
        "class Cart():\n",
        "  def __init__(self, items = []):\n",
        "    self.items = items\n",
        "\n",
        "  def showCart(self):\n",
        "    if len(self.items) == 0:\n",
        "      print('Your cart has no items')\n",
        "    for item in self.items:\n",
        "      print(items)\n",
        "\n",
        "  def addToCart(self):\n",
        "    product = input('What would you like to add? ')\n",
        "    self.items.append(product)\n",
        "\n",
        "  def removeFromCart(self):\n",
        "    del_item = input('What item would you like to remove?')\n",
        "    self.items.remove(del_item)\n",
        "    pass\n",
        ""
      ]
    },
    {
      "cell_type": "markdown",
      "metadata": {
        "id": "k1dD8csOOPUE"
      },
      "source": [
        "### Exercise 2 - Write a Python class which has two methods get_String and print_String. get_String accept a string from the user and print_String print the string in upper case"
      ]
    },
    {
      "cell_type": "code",
      "execution_count": 53,
      "metadata": {
        "id": "QA08bpZROPUE"
      },
      "outputs": [],
      "source": [
        "class StringMeAlong():\n",
        "  def get_string(self, string = ''):\n",
        "    self.string = input('Please input a string')\n",
        "\n",
        "  def print_string(self):\n",
        "    print(self.string.upper())"
      ]
    }
  ],
  "metadata": {
    "kernelspec": {
      "display_name": "Python 3",
      "language": "python",
      "name": "python3"
    },
    "language_info": {
      "codemirror_mode": {
        "name": "ipython",
        "version": 3
      },
      "file_extension": ".py",
      "mimetype": "text/x-python",
      "name": "python",
      "nbconvert_exporter": "python",
      "pygments_lexer": "ipython3",
      "version": "3.8.5"
    },
    "colab": {
      "provenance": []
    }
  },
  "nbformat": 4,
  "nbformat_minor": 0
}